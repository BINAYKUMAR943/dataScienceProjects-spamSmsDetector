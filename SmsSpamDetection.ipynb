{
 "cells": [
  {
   "cell_type": "code",
   "execution_count": 197,
   "id": "fafed504",
   "metadata": {},
   "outputs": [],
   "source": [
    "import pandas as pd\n",
    "import numpy as np\n",
    "from matplotlib import pyplot as plt\n",
    "import os \n",
    "import re\n",
    "import nltk\n",
    "from nltk.stem import WordNetLemmatizer\n",
    "from nltk import word_tokenize\n",
    "from nltk.corpus import stopwords\n",
    "from nltk import word_tokenize\n",
    "import string\n",
    "from sklearn import preprocessing\n",
    "from sklearn.model_selection import train_test_split\n",
    "import seaborn as sns\n",
    "from sklearn.feature_extraction.text import TfidfVectorizer\n",
    "from sklearn.utils import shuffle\n",
    "import torch\n",
    "from tqdm.auto import tqdm\n",
    "from sklearn.naive_bayes import GaussianNB\n",
    "from sklearn.metrics import confusion_matrix, accuracy_score, classification_report\n",
    "import pickle"
   ]
  },
  {
   "cell_type": "code",
   "execution_count": 198,
   "id": "cbcb7abd",
   "metadata": {},
   "outputs": [
    {
     "name": "stdout",
     "output_type": "stream",
     "text": [
      "D:\\Data Science Projects\\dataScienceProjects-spamSmsDetector\n"
     ]
    }
   ],
   "source": [
    "cur_dir=os.getcwd()\n",
    "print(cur_dir)\n",
    "data=pd.read_csv(\"Dataset.csv\", encoding='latin-1')"
   ]
  },
  {
   "cell_type": "markdown",
   "id": "8a09a256",
   "metadata": {},
   "source": [
    "# EDA"
   ]
  },
  {
   "cell_type": "code",
   "execution_count": 199,
   "id": "9679b47d",
   "metadata": {},
   "outputs": [
    {
     "data": {
      "text/html": [
       "<div>\n",
       "<style scoped>\n",
       "    .dataframe tbody tr th:only-of-type {\n",
       "        vertical-align: middle;\n",
       "    }\n",
       "\n",
       "    .dataframe tbody tr th {\n",
       "        vertical-align: top;\n",
       "    }\n",
       "\n",
       "    .dataframe thead th {\n",
       "        text-align: right;\n",
       "    }\n",
       "</style>\n",
       "<table border=\"1\" class=\"dataframe\">\n",
       "  <thead>\n",
       "    <tr style=\"text-align: right;\">\n",
       "      <th></th>\n",
       "      <th>Message</th>\n",
       "      <th>Type</th>\n",
       "    </tr>\n",
       "  </thead>\n",
       "  <tbody>\n",
       "    <tr>\n",
       "      <th>0</th>\n",
       "      <td>Go until jurong point, crazy.. Available only ...</td>\n",
       "      <td>non-spam</td>\n",
       "    </tr>\n",
       "    <tr>\n",
       "      <th>1</th>\n",
       "      <td>Ok lar... Joking wif u oni...</td>\n",
       "      <td>non-spam</td>\n",
       "    </tr>\n",
       "    <tr>\n",
       "      <th>2</th>\n",
       "      <td>Free entry in 2 a wkly comp to win FA Cup fina...</td>\n",
       "      <td>spam</td>\n",
       "    </tr>\n",
       "    <tr>\n",
       "      <th>3</th>\n",
       "      <td>U dun say so early hor... U c already then say...</td>\n",
       "      <td>non-spam</td>\n",
       "    </tr>\n",
       "    <tr>\n",
       "      <th>4</th>\n",
       "      <td>Nah I don't think he goes to usf, he lives aro...</td>\n",
       "      <td>non-spam</td>\n",
       "    </tr>\n",
       "  </tbody>\n",
       "</table>\n",
       "</div>"
      ],
      "text/plain": [
       "                                             Message      Type\n",
       "0  Go until jurong point, crazy.. Available only ...  non-spam\n",
       "1                      Ok lar... Joking wif u oni...  non-spam\n",
       "2  Free entry in 2 a wkly comp to win FA Cup fina...      spam\n",
       "3  U dun say so early hor... U c already then say...  non-spam\n",
       "4  Nah I don't think he goes to usf, he lives aro...  non-spam"
      ]
     },
     "execution_count": 199,
     "metadata": {},
     "output_type": "execute_result"
    }
   ],
   "source": [
    "data.head()"
   ]
  },
  {
   "cell_type": "code",
   "execution_count": 65,
   "id": "5e3af16e",
   "metadata": {},
   "outputs": [
    {
     "data": {
      "text/plain": [
       "(5572, 2)"
      ]
     },
     "execution_count": 65,
     "metadata": {},
     "output_type": "execute_result"
    }
   ],
   "source": [
    "data.shape"
   ]
  },
  {
   "cell_type": "code",
   "execution_count": 115,
   "id": "c540e9b5",
   "metadata": {},
   "outputs": [
    {
     "data": {
      "text/plain": [
       "non-spam    4825\n",
       "spam         747\n",
       "Name: Type, dtype: int64"
      ]
     },
     "execution_count": 115,
     "metadata": {},
     "output_type": "execute_result"
    }
   ],
   "source": [
    "data['Type'].value_counts()"
   ]
  },
  {
   "cell_type": "code",
   "execution_count": 116,
   "id": "9d0c2f63",
   "metadata": {},
   "outputs": [
    {
     "data": {
      "image/png": "[encoded data removed]",
      "text/plain": [
       "<Figure size 432x288 with 1 Axes>"
      ]
     },
     "metadata": {},
     "output_type": "display_data"
    }
   ],
   "source": [
    "sns.set_theme(style=\"darkgrid\")\n",
    "ax = sns.countplot( x='Type',data=data)"
   ]
  },
  {
   "cell_type": "code",
   "execution_count": 117,
   "id": "ebd6d936",
   "metadata": {},
   "outputs": [
    {
     "data": {
      "text/plain": [
       "Message    0\n",
       "Type       0\n",
       "dtype: int64"
      ]
     },
     "execution_count": 117,
     "metadata": {},
     "output_type": "execute_result"
    }
   ],
   "source": [
    "data.isnull().sum()"
   ]
  },
  {
   "cell_type": "code",
   "execution_count": 69,
   "id": "6ab496af",
   "metadata": {},
   "outputs": [
    {
     "data": {
      "text/plain": [
       "Text(0.5, 1.0, 'Distribution of word length in Non-Spam messages')"
      ]
     },
     "execution_count": 69,
     "metadata": {},
     "output_type": "execute_result"
    },
    {
     "data": {
      "image/png": "[encoded data removed]",
      "text/plain": [
       "<Figure size 720x576 with 2 Axes>"
      ]
     },
     "metadata": {},
     "output_type": "display_data"
    }
   ],
   "source": [
    "data['Word_Length']=data['Message'].apply(lambda x: len(x.split(\" \")))\n",
    "data_spam=data.loc[data['Type']=='spam']\n",
    "data_nonSpam=data.loc[data['Type']=='non-spam']\n",
    "sns.set()\n",
    "fig,axes=plt.subplots(1,2,figsize=(10,8))\n",
    "sns.histplot(ax=axes[0],data=data_spam,x='Word_Length')\n",
    "axes[0].set_title('Distribution of word length in Spam messages')\n",
    "sns.histplot(data=data_nonSpam,x='Word_Length',ax=axes[1])\n",
    "axes[1].set_title('Distribution of word length in Non-Spam messages')"
   ]
  },
  {
   "cell_type": "markdown",
   "id": "c31b0e68",
   "metadata": {},
   "source": [
    "Above distibution shows that the word lengths of spam messages are higher compared to the word length of the non-spam messages."
   ]
  },
  {
   "cell_type": "markdown",
   "id": "4f912496",
   "metadata": {},
   "source": [
    "Two types of currency has been used extensively in the text data pounds (£) and dollar ($). This Currency symbol may be somehow related to the spam message. Let us check currency symbol distribution in the messages."
   ]
  },
  {
   "cell_type": "code",
   "execution_count": 118,
   "id": "d37f0661",
   "metadata": {},
   "outputs": [],
   "source": [
    "def check_text_contains_currency(document):\n",
    "    #Since there are only two currency symbols in the document\n",
    "    if '$' in document or '£' in document: \n",
    "        return 1\n",
    "    else:\n",
    "        return 0\n",
    "data['Currency_symbol']=data['Message'].apply(check_text_contains_currency)"
   ]
  },
  {
   "cell_type": "code",
   "execution_count": 119,
   "id": "d61c0454",
   "metadata": {},
   "outputs": [
    {
     "data": {
      "text/plain": [
       "0    490\n",
       "1    257\n",
       "Name: Currency_symbol, dtype: int64"
      ]
     },
     "execution_count": 119,
     "metadata": {},
     "output_type": "execute_result"
    }
   ],
   "source": [
    "#spam data with currency\n",
    "data_spam=data.loc[data['Type']=='spam']\n",
    "data_spam_dist=data_spam['Currency_symbol'].value_counts()\n",
    "data_spam_dist"
   ]
  },
  {
   "cell_type": "code",
   "execution_count": 120,
   "id": "fcde3c61",
   "metadata": {},
   "outputs": [
    {
     "data": {
      "text/plain": [
       "34.4"
      ]
     },
     "execution_count": 120,
     "metadata": {},
     "output_type": "execute_result"
    }
   ],
   "source": [
    "Spamdata_withSymb_per=round((data_spam_dist[1]/(data_spam_dist[0]+data_spam_dist[1]))*100,2)\n",
    "Spamdata_withSymb_per"
   ]
  },
  {
   "cell_type": "code",
   "execution_count": 121,
   "id": "80178fcc",
   "metadata": {},
   "outputs": [
    {
     "data": {
      "text/plain": [
       "0    4807\n",
       "1      18\n",
       "Name: Currency_symbol, dtype: int64"
      ]
     },
     "execution_count": 121,
     "metadata": {},
     "output_type": "execute_result"
    }
   ],
   "source": [
    "data_nonSpam=data.loc[data['Type']=='non-spam']\n",
    "data_nonspam_dist=data_nonSpam['Currency_symbol'].value_counts()\n",
    "data_nonspam_dist"
   ]
  },
  {
   "cell_type": "code",
   "execution_count": 122,
   "id": "d2097955",
   "metadata": {},
   "outputs": [
    {
     "data": {
      "text/plain": [
       "0.37"
      ]
     },
     "execution_count": 122,
     "metadata": {},
     "output_type": "execute_result"
    }
   ],
   "source": [
    "NonSpamdata_withSymb_per=round((data_nonspam_dist[1]/(data_nonspam_dist[0]+data_nonspam_dist[1]))*100,2)\n",
    "NonSpamdata_withSymb_per"
   ]
  },
  {
   "cell_type": "markdown",
   "id": "2dd535bc",
   "metadata": {},
   "source": [
    "More than one-third of spam messages have currency symbols in it wheras just one percent of non-spam message have any currency symbol in it. It can be an important feature for model. Hence I will keep ***Currency_symbol*** as one of the feature for the training of model."
   ]
  },
  {
   "cell_type": "markdown",
   "id": "24d5757e",
   "metadata": {},
   "source": [
    "## Data Cleaning and Pre-processing"
   ]
  },
  {
   "cell_type": "code",
   "execution_count": 178,
   "id": "b12a135f",
   "metadata": {},
   "outputs": [],
   "source": [
    "  \n",
    "    \n",
    "def cleanDocument(document):  \n",
    "    '''This function performs some cleaning operations such as removing number, extra spaces etc. to text data'''\n",
    "    # Changing the text to lowercase\n",
    "    document=document.lower()\n",
    "\n",
    "    #Removing extra spaces\n",
    "    document=re.sub(r' +',' ',document)\n",
    "\n",
    "    #Removing Punctuality\n",
    "    exclude = set(string.punctuation)\n",
    "    document = ''.join(ch for ch in document if ch not in exclude)\n",
    "\n",
    "    #Removing numbers\n",
    "    document=document.strip()\n",
    "    document=re.sub(r'\\d+','',document)\n",
    "\n",
    "    #Removing Stop words\n",
    "    selected_words=[]\n",
    "    stop_words=list(stopwords.words(\"english\"))\n",
    "    tokens=word_tokenize(document)\n",
    "    for i in range(len(tokens)):\n",
    "        if tokens[i] not in stop_words:\n",
    "            selected_words.append(tokens[i])    \n",
    "    return \" \".join(selected_words)\n",
    "\n",
    "# Function for lemmetization\n",
    "def lemmetize(document): \n",
    "    ''' This function does lemmetizaton of doucument'''\n",
    "    lem=WordNetLemmatizer()\n",
    "    tokens=word_tokenize(document)\n",
    "    for i in range(len(tokens)):\n",
    "        lem_word=lem.lemmatize(tokens[i])\n",
    "        tokens[i]=lem_word\n",
    "\n",
    "    document=\" \".join(tokens)\n",
    "    return document\n",
    "\n",
    "# # Encoding of label\n",
    "# def label_encoder(labels):\n",
    "#     '''This function performs label encoding'''\n",
    "#     le=preprocessing.LabelEncoder()\n",
    "#     le.fit(labels)\n",
    "#     return le.transform(labels)\n",
    "    \n",
    "        \n"
   ]
  },
  {
   "cell_type": "code",
   "execution_count": 124,
   "id": "a951c8f6",
   "metadata": {},
   "outputs": [],
   "source": [
    "data['Message']=data['Message'].apply(lambda x: cleanDocument(x))"
   ]
  },
  {
   "cell_type": "code",
   "execution_count": 125,
   "id": "9200b0a4",
   "metadata": {},
   "outputs": [],
   "source": [
    "data['Message']=data['Message'].apply(lambda x: lemmetize(x))"
   ]
  },
  {
   "cell_type": "code",
   "execution_count": 126,
   "id": "78a7cf49",
   "metadata": {},
   "outputs": [
    {
     "data": {
      "text/plain": [
       "0    go jurong point crazy available bugis n great ...\n",
       "1                              ok lar joking wif u oni\n",
       "2    free entry wkly comp win fa cup final tkts st ...\n",
       "3                  u dun say early hor u c already say\n",
       "4             nah dont think go usf life around though\n",
       "Name: Message, dtype: object"
      ]
     },
     "execution_count": 126,
     "metadata": {},
     "output_type": "execute_result"
    }
   ],
   "source": [
    "data['Message'].head()"
   ]
  },
  {
   "cell_type": "code",
   "execution_count": 200,
   "id": "947d9afa",
   "metadata": {},
   "outputs": [
    {
     "data": {
      "text/plain": [
       "0       0\n",
       "1       0\n",
       "2       1\n",
       "3       0\n",
       "4       0\n",
       "       ..\n",
       "5567    1\n",
       "5568    0\n",
       "5569    0\n",
       "5570    0\n",
       "5571    0\n",
       "Name: Type, Length: 5572, dtype: int32"
      ]
     },
     "execution_count": 200,
     "metadata": {},
     "output_type": "execute_result"
    }
   ],
   "source": [
    "le=preprocessing.LabelEncoder()\n",
    "data['Type']=le.fit_transform(data['Type'])\n",
    "# le.transform(labels)\n",
    "data['Type']\n",
    "\n",
    "# print(data['Type'])"
   ]
  },
  {
   "cell_type": "markdown",
   "id": "42607dd9",
   "metadata": {},
   "source": [
    "### Approach <br>\n",
    "Data is highly Imbalanced, and needs to be balanced for better classification. My approach is to use deep learning to augment minority class data in the training set and then use TFIDF vecorizer to vectorize document.\n",
    "\n",
    "***Note :*** <br>\n",
    "I could have first converted all the the dataset to numerical values using vectorization technique such as TFIDF and then could have used SMOTE for balancing the dataset of the training data. But, data after tfidf vectorization dataset will have high dimension and SMOTE doesn't perform good with high dimesional dataset. \n",
    "\n"
   ]
  },
  {
   "cell_type": "markdown",
   "id": "bce4869d",
   "metadata": {},
   "source": [
    "### Train/Test/Validation split"
   ]
  },
  {
   "cell_type": "code",
   "execution_count": 128,
   "id": "bdbd7de8",
   "metadata": {},
   "outputs": [],
   "source": [
    "X=data['Message']\n",
    "y=data['Type']"
   ]
  },
  {
   "cell_type": "code",
   "execution_count": 129,
   "id": "f2667b29",
   "metadata": {},
   "outputs": [],
   "source": [
    "X_train_1, X_test, y_train_1, y_test = train_test_split(X, y, test_size=0.30, random_state=42)"
   ]
  },
  {
   "cell_type": "code",
   "execution_count": 130,
   "id": "16281f48",
   "metadata": {},
   "outputs": [],
   "source": [
    "X_train, X_val, y_train, y_val = train_test_split(X_train_1, y_train_1, test_size=0.30, random_state=42)"
   ]
  },
  {
   "cell_type": "code",
   "execution_count": 131,
   "id": "817965da",
   "metadata": {},
   "outputs": [
    {
     "data": {
      "text/plain": [
       "(2730,)"
      ]
     },
     "execution_count": 131,
     "metadata": {},
     "output_type": "execute_result"
    }
   ],
   "source": [
    "X_train.shape"
   ]
  },
  {
   "cell_type": "code",
   "execution_count": 132,
   "id": "c63b630f",
   "metadata": {},
   "outputs": [
    {
     "data": {
      "text/plain": [
       "(1672,)"
      ]
     },
     "execution_count": 132,
     "metadata": {},
     "output_type": "execute_result"
    }
   ],
   "source": [
    "X_test.shape"
   ]
  },
  {
   "cell_type": "code",
   "execution_count": 133,
   "id": "797b3fd0",
   "metadata": {},
   "outputs": [
    {
     "data": {
      "text/plain": [
       "(1170,)"
      ]
     },
     "execution_count": 133,
     "metadata": {},
     "output_type": "execute_result"
    }
   ],
   "source": [
    "X_val.shape"
   ]
  },
  {
   "cell_type": "code",
   "execution_count": 134,
   "id": "2ea8e225",
   "metadata": {},
   "outputs": [
    {
     "data": {
      "text/plain": [
       "(1672,)"
      ]
     },
     "execution_count": 134,
     "metadata": {},
     "output_type": "execute_result"
    }
   ],
   "source": [
    "y_test.shape"
   ]
  },
  {
   "cell_type": "code",
   "execution_count": 135,
   "id": "8c6b27d7",
   "metadata": {},
   "outputs": [
    {
     "data": {
      "text/plain": [
       "(2730,)"
      ]
     },
     "execution_count": 135,
     "metadata": {},
     "output_type": "execute_result"
    }
   ],
   "source": [
    "y_train.shape"
   ]
  },
  {
   "cell_type": "code",
   "execution_count": 136,
   "id": "0d3ddcd7",
   "metadata": {},
   "outputs": [
    {
     "data": {
      "text/plain": [
       "(1170,)"
      ]
     },
     "execution_count": 136,
     "metadata": {},
     "output_type": "execute_result"
    }
   ],
   "source": [
    "y_val.shape"
   ]
  },
  {
   "cell_type": "markdown",
   "id": "64b679d0",
   "metadata": {},
   "source": [
    "Balancing data in the training set using deep learning augmentation technique"
   ]
  },
  {
   "cell_type": "code",
   "execution_count": 137,
   "id": "d852f221",
   "metadata": {},
   "outputs": [],
   "source": [
    "import nlpaug.augmenter.word.context_word_embs as aug"
   ]
  },
  {
   "cell_type": "code",
   "execution_count": 138,
   "id": "33a4c112",
   "metadata": {},
   "outputs": [
    {
     "data": {
      "text/plain": [
       "'so this is a desert cow'"
      ]
     },
     "execution_count": 138,
     "metadata": {},
     "output_type": "execute_result"
    }
   ],
   "source": [
    "augmenter = aug.ContextualWordEmbsAug(model_path='bert-base-uncased', action=\"insert\")\n",
    "augmenter.augment('This is a cow')"
   ]
  },
  {
   "cell_type": "markdown",
   "id": "79e559fa",
   "metadata": {},
   "source": [
    "Function to generate augmented data"
   ]
  },
  {
   "cell_type": "code",
   "execution_count": 139,
   "id": "185eee41",
   "metadata": {},
   "outputs": [],
   "source": [
    "def augmentMinorityClassData(X_train, augmenter):\n",
    "    '''This function augment text data belonging to the minority to a new dataframe and return the same'''\n",
    "    X_train_spam=training_data.loc[training_data['Type']==1]\n",
    "    val=training_data['Type'].value_counts()\n",
    "    min_maj_diff=val[0]-val[1]\n",
    "#     min_maj_diff\n",
    "    augmentedDocuments=[]\n",
    " # tqdm package is used to see the progress of for loop\n",
    "    for i in tqdm(np.random.randint(0,len(X_train_spam),size=min_maj_diff)):\n",
    "        '''For loop randomly chooses a text from the minority class to augment and appends \n",
    "        augmented text to list variable named augmentedDocuments'''\n",
    "        document = X_train_spam['Message'].iloc[i]\n",
    "#         print(document)\n",
    "        augmented_document = augmenter.augment(document)\n",
    "        augmentedDocuments.append(augmented_document)\n",
    "        \n",
    "    new=pd.DataFrame({'Message':augmentedDocuments,'Type':1})\n",
    "    # Suffling the data in the created dataframe\n",
    "    X_train=shuffle(X_train.append(new).reset_index(drop=True))\n",
    "    return X_train\n",
    "        \n",
    "    "
   ]
  },
  {
   "cell_type": "code",
   "execution_count": 140,
   "id": "0c009016",
   "metadata": {},
   "outputs": [
    {
     "data": {
      "text/plain": [
       "0    2353\n",
       "1     377\n",
       "Name: Type, dtype: int64"
      ]
     },
     "execution_count": 140,
     "metadata": {},
     "output_type": "execute_result"
    }
   ],
   "source": [
    "# Passing the Message, augmenter object, and minority and majority difference \n",
    "training_data=pd.concat([X_train,y_train],axis=1)\n",
    "training_data['Type'].value_counts()"
   ]
  },
  {
   "cell_type": "code",
   "execution_count": 101,
   "id": "b277973d",
   "metadata": {},
   "outputs": [
    {
     "data": {
      "application/vnd.jupyter.widget-view+json": {
       "model_id": "4647d3be92ec493695371bfa1efe9393",
       "version_major": 2,
       "version_minor": 0
      },
      "text/plain": [
       "  0%|          | 0/1976 [00:00<?, ?it/s]"
      ]
     },
     "metadata": {},
     "output_type": "display_data"
    }
   ],
   "source": [
    "aug_df=augmentMinorityClassData(training_data,augmenter)"
   ]
  },
  {
   "cell_type": "code",
   "execution_count": 141,
   "id": "44bbc9c2",
   "metadata": {},
   "outputs": [
    {
     "data": {
      "text/plain": [
       "1    2353\n",
       "0    2353\n",
       "Name: Type, dtype: int64"
      ]
     },
     "execution_count": 141,
     "metadata": {},
     "output_type": "execute_result"
    }
   ],
   "source": [
    "aug_df['Type'].value_counts()"
   ]
  },
  {
   "cell_type": "markdown",
   "id": "146267cd",
   "metadata": {},
   "source": [
    "Data of each type in the training set after balancing"
   ]
  },
  {
   "cell_type": "code",
   "execution_count": 142,
   "id": "c1104787",
   "metadata": {},
   "outputs": [
    {
     "data": {
      "image/png": "[encoded data removed]",
      "text/plain": [
       "<Figure size 432x288 with 1 Axes>"
      ]
     },
     "metadata": {},
     "output_type": "display_data"
    }
   ],
   "source": [
    "sns.set_theme(style=\"darkgrid\")\n",
    "ax = sns.countplot( x='Type',data=aug_df)"
   ]
  },
  {
   "cell_type": "code",
   "execution_count": 154,
   "id": "618ba562",
   "metadata": {},
   "outputs": [],
   "source": [
    "training_data_aug=aug_df\n",
    "y_train=training_data_aug['Type']"
   ]
  },
  {
   "cell_type": "markdown",
   "id": "271ca62a",
   "metadata": {},
   "source": [
    "### Converting documents to vector using tfidf vectorizer"
   ]
  },
  {
   "cell_type": "code",
   "execution_count": 159,
   "id": "9a8fbf1d",
   "metadata": {},
   "outputs": [],
   "source": [
    "corpus=[]\n",
    "for document in training_data_aug['Message']:\n",
    "    corpus.append(document)\n",
    "tfidf = TfidfVectorizer(max_features=450)\n",
    "vectors = tfidf.fit_transform(corpus).toarray()\n",
    "feature_names = tfidf.get_feature_names() \n",
    "train_X_tfidf = pd.DataFrame(vectors, columns=feature_names)\n"
   ]
  },
  {
   "cell_type": "code",
   "execution_count": 149,
   "id": "90b91327",
   "metadata": {},
   "outputs": [
    {
     "data": {
      "text/html": [
       "<div>\n",
       "<style scoped>\n",
       "    .dataframe tbody tr th:only-of-type {\n",
       "        vertical-align: middle;\n",
       "    }\n",
       "\n",
       "    .dataframe tbody tr th {\n",
       "        vertical-align: top;\n",
       "    }\n",
       "\n",
       "    .dataframe thead th {\n",
       "        text-align: right;\n",
       "    }\n",
       "</style>\n",
       "<table border=\"1\" class=\"dataframe\">\n",
       "  <thead>\n",
       "    <tr style=\"text-align: right;\">\n",
       "      <th></th>\n",
       "      <th>100</th>\n",
       "      <th>access</th>\n",
       "      <th>account</th>\n",
       "      <th>age</th>\n",
       "      <th>all</th>\n",
       "      <th>already</th>\n",
       "      <th>also</th>\n",
       "      <th>amp</th>\n",
       "      <th>ampm</th>\n",
       "      <th>an</th>\n",
       "      <th>...</th>\n",
       "      <th>xxx</th>\n",
       "      <th>ya</th>\n",
       "      <th>yeah</th>\n",
       "      <th>year</th>\n",
       "      <th>yes</th>\n",
       "      <th>you</th>\n",
       "      <th>your</th>\n",
       "      <th>youre</th>\n",
       "      <th>yr</th>\n",
       "      <th>ìï</th>\n",
       "    </tr>\n",
       "  </thead>\n",
       "  <tbody>\n",
       "    <tr>\n",
       "      <th>0</th>\n",
       "      <td>0.0</td>\n",
       "      <td>0.0</td>\n",
       "      <td>0.000000</td>\n",
       "      <td>0.0</td>\n",
       "      <td>0.0</td>\n",
       "      <td>0.0</td>\n",
       "      <td>0.0</td>\n",
       "      <td>0.0</td>\n",
       "      <td>0.357563</td>\n",
       "      <td>0.0</td>\n",
       "      <td>...</td>\n",
       "      <td>0.0</td>\n",
       "      <td>0.0</td>\n",
       "      <td>0.0</td>\n",
       "      <td>0.0</td>\n",
       "      <td>0.0</td>\n",
       "      <td>0.0</td>\n",
       "      <td>0.0</td>\n",
       "      <td>0.0</td>\n",
       "      <td>0.0</td>\n",
       "      <td>0.0</td>\n",
       "    </tr>\n",
       "    <tr>\n",
       "      <th>1</th>\n",
       "      <td>0.0</td>\n",
       "      <td>0.0</td>\n",
       "      <td>0.000000</td>\n",
       "      <td>0.0</td>\n",
       "      <td>0.0</td>\n",
       "      <td>0.0</td>\n",
       "      <td>0.0</td>\n",
       "      <td>0.0</td>\n",
       "      <td>0.000000</td>\n",
       "      <td>0.0</td>\n",
       "      <td>...</td>\n",
       "      <td>0.0</td>\n",
       "      <td>0.0</td>\n",
       "      <td>0.0</td>\n",
       "      <td>0.0</td>\n",
       "      <td>0.0</td>\n",
       "      <td>0.0</td>\n",
       "      <td>0.0</td>\n",
       "      <td>0.0</td>\n",
       "      <td>0.0</td>\n",
       "      <td>0.0</td>\n",
       "    </tr>\n",
       "    <tr>\n",
       "      <th>2</th>\n",
       "      <td>0.0</td>\n",
       "      <td>0.0</td>\n",
       "      <td>0.000000</td>\n",
       "      <td>0.0</td>\n",
       "      <td>0.0</td>\n",
       "      <td>0.0</td>\n",
       "      <td>0.0</td>\n",
       "      <td>0.0</td>\n",
       "      <td>0.000000</td>\n",
       "      <td>0.0</td>\n",
       "      <td>...</td>\n",
       "      <td>0.0</td>\n",
       "      <td>0.0</td>\n",
       "      <td>0.0</td>\n",
       "      <td>0.0</td>\n",
       "      <td>0.0</td>\n",
       "      <td>0.0</td>\n",
       "      <td>0.0</td>\n",
       "      <td>0.0</td>\n",
       "      <td>0.0</td>\n",
       "      <td>0.0</td>\n",
       "    </tr>\n",
       "    <tr>\n",
       "      <th>3</th>\n",
       "      <td>0.0</td>\n",
       "      <td>0.0</td>\n",
       "      <td>0.000000</td>\n",
       "      <td>0.0</td>\n",
       "      <td>0.0</td>\n",
       "      <td>0.0</td>\n",
       "      <td>0.0</td>\n",
       "      <td>0.0</td>\n",
       "      <td>0.000000</td>\n",
       "      <td>0.0</td>\n",
       "      <td>...</td>\n",
       "      <td>0.0</td>\n",
       "      <td>0.0</td>\n",
       "      <td>0.0</td>\n",
       "      <td>0.0</td>\n",
       "      <td>0.0</td>\n",
       "      <td>0.0</td>\n",
       "      <td>0.0</td>\n",
       "      <td>0.0</td>\n",
       "      <td>0.0</td>\n",
       "      <td>0.0</td>\n",
       "    </tr>\n",
       "    <tr>\n",
       "      <th>4</th>\n",
       "      <td>0.0</td>\n",
       "      <td>0.0</td>\n",
       "      <td>0.320997</td>\n",
       "      <td>0.0</td>\n",
       "      <td>0.0</td>\n",
       "      <td>0.0</td>\n",
       "      <td>0.0</td>\n",
       "      <td>0.0</td>\n",
       "      <td>0.000000</td>\n",
       "      <td>0.0</td>\n",
       "      <td>...</td>\n",
       "      <td>0.0</td>\n",
       "      <td>0.0</td>\n",
       "      <td>0.0</td>\n",
       "      <td>0.0</td>\n",
       "      <td>0.0</td>\n",
       "      <td>0.0</td>\n",
       "      <td>0.0</td>\n",
       "      <td>0.0</td>\n",
       "      <td>0.0</td>\n",
       "      <td>0.0</td>\n",
       "    </tr>\n",
       "  </tbody>\n",
       "</table>\n",
       "<p>5 rows × 450 columns</p>\n",
       "</div>"
      ],
      "text/plain": [
       "   100  access   account  age  all  already  also  amp      ampm   an  ...  \\\n",
       "0  0.0     0.0  0.000000  0.0  0.0      0.0   0.0  0.0  0.357563  0.0  ...   \n",
       "1  0.0     0.0  0.000000  0.0  0.0      0.0   0.0  0.0  0.000000  0.0  ...   \n",
       "2  0.0     0.0  0.000000  0.0  0.0      0.0   0.0  0.0  0.000000  0.0  ...   \n",
       "3  0.0     0.0  0.000000  0.0  0.0      0.0   0.0  0.0  0.000000  0.0  ...   \n",
       "4  0.0     0.0  0.320997  0.0  0.0      0.0   0.0  0.0  0.000000  0.0  ...   \n",
       "\n",
       "   xxx   ya  yeah  year  yes  you  your  youre   yr   ìï  \n",
       "0  0.0  0.0   0.0   0.0  0.0  0.0   0.0    0.0  0.0  0.0  \n",
       "1  0.0  0.0   0.0   0.0  0.0  0.0   0.0    0.0  0.0  0.0  \n",
       "2  0.0  0.0   0.0   0.0  0.0  0.0   0.0    0.0  0.0  0.0  \n",
       "3  0.0  0.0   0.0   0.0  0.0  0.0   0.0    0.0  0.0  0.0  \n",
       "4  0.0  0.0   0.0   0.0  0.0  0.0   0.0    0.0  0.0  0.0  \n",
       "\n",
       "[5 rows x 450 columns]"
      ]
     },
     "execution_count": 149,
     "metadata": {},
     "output_type": "execute_result"
    }
   ],
   "source": [
    "train_X_tfidf.head()"
   ]
  },
  {
   "cell_type": "code",
   "execution_count": 156,
   "id": "abba92ef",
   "metadata": {},
   "outputs": [
    {
     "data": {
      "text/plain": [
       "GaussianNB()"
      ]
     },
     "execution_count": 156,
     "metadata": {},
     "output_type": "execute_result"
    }
   ],
   "source": [
    "nb = GaussianNB()\n",
    "nb.fit(train_X_tfidf, y_train)"
   ]
  },
  {
   "cell_type": "code",
   "execution_count": null,
   "id": "cca8c577",
   "metadata": {},
   "outputs": [],
   "source": [
    "# Transforming the validation data using tfidf object fitted with the training data"
   ]
  },
  {
   "cell_type": "code",
   "execution_count": 160,
   "id": "7d085b14",
   "metadata": {},
   "outputs": [],
   "source": [
    "vectors=tfidf.transform(X_val).toarray()\n",
    "val_X_tfidf = pd.DataFrame(vectors, columns=feature_names)"
   ]
  },
  {
   "cell_type": "code",
   "execution_count": 162,
   "id": "3b67c03e",
   "metadata": {},
   "outputs": [],
   "source": [
    "y_preds = nb.predict(val_X_tfidf)"
   ]
  },
  {
   "cell_type": "code",
   "execution_count": 166,
   "id": "b13d9a9b",
   "metadata": {},
   "outputs": [
    {
     "name": "stdout",
     "output_type": "stream",
     "text": [
      "[[997  22]\n",
      " [ 26 125]]\n",
      "0.958974358974359\n",
      "              precision    recall  f1-score   support\n",
      "\n",
      "           0       0.97      0.98      0.98      1019\n",
      "           1       0.85      0.83      0.84       151\n",
      "\n",
      "    accuracy                           0.96      1170\n",
      "   macro avg       0.91      0.90      0.91      1170\n",
      "weighted avg       0.96      0.96      0.96      1170\n",
      "\n"
     ]
    }
   ],
   "source": [
    "print(confusion_matrix(y_val, y_preds))\n",
    "print(accuracy_score(y_val, y_preds))\n",
    "print(classification_report(y_val, y_preds))"
   ]
  },
  {
   "cell_type": "markdown",
   "id": "b08406de",
   "metadata": {},
   "source": [
    "Parameter Tunning"
   ]
  },
  {
   "cell_type": "code",
   "execution_count": 169,
   "id": "a5836a29",
   "metadata": {},
   "outputs": [],
   "source": [
    "\n",
    "def predict_sms_categ(message,nb):\n",
    "    message=cleanDocument(message)\n",
    "    message=lemmetize(message)\n",
    "    message=tfidf.transform([message]).toarray()\n",
    "    pred=nb.predict(message)    \n",
    "    return pred\n",
    "    \n",
    "    "
   ]
  },
  {
   "cell_type": "code",
   "execution_count": 174,
   "id": "cbf1acfb",
   "metadata": {},
   "outputs": [
    {
     "name": "stdout",
     "output_type": "stream",
     "text": [
      "This is a spam SMS\n"
     ]
    }
   ],
   "source": [
    "pred=predict_sms_categ('IMPORTANT - You could be entitled up to £3,160 in compensation from mis-sold PPI on a credit card or loan. Please reply',nb)\n",
    "if pred==1:\n",
    "    print('This is a spam SMS')\n",
    "else:\n",
    "    print('This is normal SMS')"
   ]
  },
  {
   "cell_type": "code",
   "execution_count": 177,
   "id": "d6233702",
   "metadata": {},
   "outputs": [],
   "source": [
    "pickle.dump(tfidf,open('vectorizer.pkl','wb'))\n",
    "pickle.dump(nb,open('nb.pkl','wb'))\n"
   ]
  },
  {
   "cell_type": "code",
   "execution_count": 201,
   "id": "343d8b15",
   "metadata": {},
   "outputs": [],
   "source": [
    "pickle.dump(le,open('le.pkl','wb'))"
   ]
  },
  {
   "cell_type": "code",
   "execution_count": 187,
   "id": "361c44e0",
   "metadata": {},
   "outputs": [],
   "source": [
    "le=pickle.load(open('le.pkl','rb'))"
   ]
  },
  {
   "cell_type": "code",
   "execution_count": 189,
   "id": "d2929559",
   "metadata": {},
   "outputs": [],
   "source": [
    "message=cleanDocument(\"THis asdjf asdfasdf\")\n",
    "message=lemmetize(message)\n",
    "message=tfidf.transform([message]).toarray()\n",
    "pred=nb.predict(message) \n"
   ]
  },
  {
   "cell_type": "code",
   "execution_count": 202,
   "id": "a705ad48",
   "metadata": {},
   "outputs": [],
   "source": [
    "x=le.inverse_transform(pred)\n"
   ]
  },
  {
   "cell_type": "code",
   "execution_count": 203,
   "id": "7830b455",
   "metadata": {},
   "outputs": [
    {
     "data": {
      "text/plain": [
       "array(['non-spam'], dtype=object)"
      ]
     },
     "execution_count": 203,
     "metadata": {},
     "output_type": "execute_result"
    }
   ],
   "source": [
    "x"
   ]
  },
  {
   "cell_type": "code",
   "execution_count": null,
   "id": "847da64d",
   "metadata": {},
   "outputs": [],
   "source": []
  }
 ],
 "metadata": {
  "kernelspec": {
   "display_name": "Python 3",
   "language": "python",
   "name": "python3"
  },
  "language_info": {
   "codemirror_mode": {
    "name": "ipython",
    "version": 3
   },
   "file_extension": ".py",
   "mimetype": "text/x-python",
   "name": "python",
   "nbconvert_exporter": "python",
   "pygments_lexer": "ipython3",
   "version": "3.8.8"
  }
 },
 "nbformat": 4,
 "nbformat_minor": 5
}

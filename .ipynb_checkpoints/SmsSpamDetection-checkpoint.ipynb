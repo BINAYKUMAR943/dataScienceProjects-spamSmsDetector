{
 "cells": [
  {
   "cell_type": "code",
   "execution_count": 239,
   "id": "fafed504",
   "metadata": {},
   "outputs": [],
   "source": [
    "import pandas as pd\n",
    "import numpy as np\n",
    "from matplotlib import pyplot as plt\n",
    "import os \n",
    "import re\n",
    "import nltk\n",
    "from nltk.stem import WordNetLemmatizer\n",
    "from nltk import word_tokenize\n",
    "from nltk.corpus import stopwords\n",
    "from nltk import word_tokenize\n",
    "import string\n",
    "from sklearn import preprocessing\n",
    "from sklearn.model_selection import train_test_split\n",
    "import seaborn as sns\n",
    "from sklearn.feature_extraction.text import TfidfVectorizer"
   ]
  },
  {
   "cell_type": "code",
   "execution_count": 179,
   "id": "cbcb7abd",
   "metadata": {},
   "outputs": [
    {
     "name": "stdout",
     "output_type": "stream",
     "text": [
      "D:\\Data Science Projects\\dataScienceProjects-spamSmsDetector\n"
     ]
    }
   ],
   "source": [
    "cur_dir=os.getcwd()\n",
    "print(cur_dir)\n",
    "data=pd.read_csv(\"Dataset.csv\", encoding='latin-1')"
   ]
  },
  {
   "cell_type": "markdown",
   "id": "8a09a256",
   "metadata": {},
   "source": [
    "# EDA"
   ]
  },
  {
   "cell_type": "code",
   "execution_count": 180,
   "id": "9679b47d",
   "metadata": {},
   "outputs": [
    {
     "data": {
      "text/html": [
       "<div>\n",
       "<style scoped>\n",
       "    .dataframe tbody tr th:only-of-type {\n",
       "        vertical-align: middle;\n",
       "    }\n",
       "\n",
       "    .dataframe tbody tr th {\n",
       "        vertical-align: top;\n",
       "    }\n",
       "\n",
       "    .dataframe thead th {\n",
       "        text-align: right;\n",
       "    }\n",
       "</style>\n",
       "<table border=\"1\" class=\"dataframe\">\n",
       "  <thead>\n",
       "    <tr style=\"text-align: right;\">\n",
       "      <th></th>\n",
       "      <th>Message</th>\n",
       "      <th>Type</th>\n",
       "    </tr>\n",
       "  </thead>\n",
       "  <tbody>\n",
       "    <tr>\n",
       "      <th>0</th>\n",
       "      <td>Go until jurong point, crazy.. Available only ...</td>\n",
       "      <td>non-spam</td>\n",
       "    </tr>\n",
       "    <tr>\n",
       "      <th>1</th>\n",
       "      <td>Ok lar... Joking wif u oni...</td>\n",
       "      <td>non-spam</td>\n",
       "    </tr>\n",
       "    <tr>\n",
       "      <th>2</th>\n",
       "      <td>Free entry in 2 a wkly comp to win FA Cup fina...</td>\n",
       "      <td>spam</td>\n",
       "    </tr>\n",
       "    <tr>\n",
       "      <th>3</th>\n",
       "      <td>U dun say so early hor... U c already then say...</td>\n",
       "      <td>non-spam</td>\n",
       "    </tr>\n",
       "    <tr>\n",
       "      <th>4</th>\n",
       "      <td>Nah I don't think he goes to usf, he lives aro...</td>\n",
       "      <td>non-spam</td>\n",
       "    </tr>\n",
       "  </tbody>\n",
       "</table>\n",
       "</div>"
      ],
      "text/plain": [
       "                                             Message      Type\n",
       "0  Go until jurong point, crazy.. Available only ...  non-spam\n",
       "1                      Ok lar... Joking wif u oni...  non-spam\n",
       "2  Free entry in 2 a wkly comp to win FA Cup fina...      spam\n",
       "3  U dun say so early hor... U c already then say...  non-spam\n",
       "4  Nah I don't think he goes to usf, he lives aro...  non-spam"
      ]
     },
     "execution_count": 180,
     "metadata": {},
     "output_type": "execute_result"
    }
   ],
   "source": [
    "data.head()"
   ]
  },
  {
   "cell_type": "code",
   "execution_count": 181,
   "id": "5e3af16e",
   "metadata": {},
   "outputs": [
    {
     "data": {
      "text/plain": [
       "(5572, 2)"
      ]
     },
     "execution_count": 181,
     "metadata": {},
     "output_type": "execute_result"
    }
   ],
   "source": [
    "data.shape"
   ]
  },
  {
   "cell_type": "code",
   "execution_count": 182,
   "id": "c540e9b5",
   "metadata": {},
   "outputs": [
    {
     "data": {
      "text/plain": [
       "non-spam    4825\n",
       "spam         747\n",
       "Name: Type, dtype: int64"
      ]
     },
     "execution_count": 182,
     "metadata": {},
     "output_type": "execute_result"
    }
   ],
   "source": [
    "data['Type'].value_counts()"
   ]
  },
  {
   "cell_type": "code",
   "execution_count": 183,
   "id": "9d0c2f63",
   "metadata": {},
   "outputs": [
    {
     "data": {
      "image/png": "[encoded data removed]",
      "text/plain": [
       "<Figure size 432x288 with 1 Axes>"
      ]
     },
     "metadata": {},
     "output_type": "display_data"
    }
   ],
   "source": [
    "sns.set_theme(style=\"darkgrid\")\n",
    "ax = sns.countplot( x='Type',data=data)"
   ]
  },
  {
   "cell_type": "code",
   "execution_count": 184,
   "id": "ebd6d936",
   "metadata": {},
   "outputs": [
    {
     "data": {
      "text/plain": [
       "Message    0\n",
       "Type       0\n",
       "dtype: int64"
      ]
     },
     "execution_count": 184,
     "metadata": {},
     "output_type": "execute_result"
    }
   ],
   "source": [
    "data.isnull().sum()"
   ]
  },
  {
   "cell_type": "code",
   "execution_count": 199,
   "id": "6ab496af",
   "metadata": {},
   "outputs": [
    {
     "data": {
      "text/plain": [
       "Text(0.5, 1.0, 'Distribution of word length in Non-Spam messages')"
      ]
     },
     "execution_count": 199,
     "metadata": {},
     "output_type": "execute_result"
    },
    {
     "data": {
      "image/png": "[encoded data removed]",
      "text/plain": [
       "<Figure size 720x576 with 2 Axes>"
      ]
     },
     "metadata": {},
     "output_type": "display_data"
    }
   ],
   "source": [
    "data['Word_Length']=data['Message'].apply(lambda x: len(x.split(\" \")))\n",
    "data_spam=data.loc[data['Type']=='spam']\n",
    "data_nonSpam=data.loc[data['Type']=='non-spam']\n",
    "sns.set()\n",
    "fig,axes=plt.subplots(1,2,figsize=(10,8))\n",
    "sns.histplot(ax=axes[0],data=data_spam,x='Word_Length')\n",
    "axes[0].set_title('Distribution of word length in Spam messages')\n",
    "sns.histplot(data=data_nonSpam,x='Word_Length',ax=axes[1])\n",
    "axes[1].set_title('Distribution of word length in Non-Spam messages')"
   ]
  },
  {
   "cell_type": "markdown",
   "id": "c31b0e68",
   "metadata": {},
   "source": [
    "Above distibution shows that the word lengths of spam messages are higher compared to the word length of the non-spam messages."
   ]
  },
  {
   "cell_type": "markdown",
   "id": "4f912496",
   "metadata": {},
   "source": [
    "Two types of currency has been used extensively in the text data pounds (£) and dollar ($). This Currency symbol may be somehow related to the spam message. Let is check currency symbol distribution in the messages."
   ]
  },
  {
   "cell_type": "code",
   "execution_count": 204,
   "id": "d37f0661",
   "metadata": {},
   "outputs": [],
   "source": [
    "def check_text_contains_currency(document):\n",
    "    #Since there are only two currency symbols in the document\n",
    "    if '$' in document or '£' in document: \n",
    "        return 1\n",
    "    else:\n",
    "        return 0\n",
    "data['Currency_symbol']=data['Message'].apply(check_text_contains_currency)"
   ]
  },
  {
   "cell_type": "code",
   "execution_count": 212,
   "id": "d61c0454",
   "metadata": {},
   "outputs": [
    {
     "data": {
      "text/plain": [
       "0    490\n",
       "1    257\n",
       "Name: Currency_symbol, dtype: int64"
      ]
     },
     "execution_count": 212,
     "metadata": {},
     "output_type": "execute_result"
    }
   ],
   "source": [
    "#spam data with currency\n",
    "data_spam=data.loc[data['Type']=='spam']\n",
    "data_spam_dist=data_spam['Currency_symbol'].value_counts()\n",
    "data_spam_dist"
   ]
  },
  {
   "cell_type": "code",
   "execution_count": 223,
   "id": "fcde3c61",
   "metadata": {},
   "outputs": [
    {
     "data": {
      "text/plain": [
       "34.4"
      ]
     },
     "execution_count": 223,
     "metadata": {},
     "output_type": "execute_result"
    }
   ],
   "source": [
    "Spamdata_withSymb_per=round((data_spam_dist[1]/(data_spam_dist[0]+data_spam_dist[1]))*100,2)\n",
    "Spamdata_withSymb_per"
   ]
  },
  {
   "cell_type": "code",
   "execution_count": 226,
   "id": "80178fcc",
   "metadata": {},
   "outputs": [
    {
     "data": {
      "text/plain": [
       "0    4807\n",
       "1      18\n",
       "Name: Currency_symbol, dtype: int64"
      ]
     },
     "execution_count": 226,
     "metadata": {},
     "output_type": "execute_result"
    }
   ],
   "source": [
    "data_nonSpam=data.loc[data['Type']=='non-spam']\n",
    "data_nonspam_dist=data_nonSpam['Currency_symbol'].value_counts()\n",
    "data_nonspam_dist"
   ]
  },
  {
   "cell_type": "code",
   "execution_count": 227,
   "id": "d2097955",
   "metadata": {},
   "outputs": [
    {
     "data": {
      "text/plain": [
       "0.37"
      ]
     },
     "execution_count": 227,
     "metadata": {},
     "output_type": "execute_result"
    }
   ],
   "source": [
    "NonSpamdata_withSymb_per=round((data_nonspam_dist[1]/(data_nonspam_dist[0]+data_nonspam_dist[1]))*100,2)\n",
    "NonSpamdata_withSymb_per"
   ]
  },
  {
   "cell_type": "markdown",
   "id": "2dd535bc",
   "metadata": {},
   "source": [
    "More than one-third of spam messages have currency symbols in it wheras just one percent of non-spam message have any currency symbol in it. It can be an important feature for model. Hence I will keep ***Currency_symbol*** as one of the feature for the training of model."
   ]
  },
  {
   "cell_type": "markdown",
   "id": "24d5757e",
   "metadata": {},
   "source": [
    "## Data Cleaning and Pre-processing"
   ]
  },
  {
   "cell_type": "code",
   "execution_count": 230,
   "id": "b12a135f",
   "metadata": {},
   "outputs": [],
   "source": [
    "  \n",
    "    \n",
    "def cleanDocument(document):  \n",
    "    '''This function performs some cleaning operations such as removing number, extra spaces etc. to text data'''\n",
    "    # Changing the text to lowercase\n",
    "    document=document.lower()\n",
    "\n",
    "    #Removing extra spaces\n",
    "    document=re.sub(r' +',' ',document)\n",
    "\n",
    "    #Removing Punctuality\n",
    "    exclude = set(string.punctuation)\n",
    "    document = ''.join(ch for ch in document if ch not in exclude)\n",
    "\n",
    "    #Removing numbers\n",
    "    document=document.strip()\n",
    "    document=re.sub(r'\\d+','',document)\n",
    "\n",
    "    #Removing Stop words\n",
    "    selected_words=[]\n",
    "    stop_words=list(stopwords.words(\"english\"))\n",
    "    tokens=word_tokenize(document)\n",
    "    for i in range(len(tokens)):\n",
    "        if tokens[i] not in stop_words:\n",
    "            selected_words.append(tokens[i])    \n",
    "    return \" \".join(selected_words)\n",
    "\n",
    "# Function for lemmetization\n",
    "def lemmetize(document): \n",
    "    ''' This function does lemmetizaton of doucument'''\n",
    "    lem=WordNetLemmatizer()\n",
    "    tokens=word_tokenize(document)\n",
    "    for i in range(len(tokens)):\n",
    "        lem_word=lem.lemmatize(tokens[i])\n",
    "        tokens[i]=lem_word\n",
    "\n",
    "    document=\" \".join(tokens)\n",
    "    return document\n",
    "\n",
    "# Encoding of label\n",
    "def label_encoder(labels):\n",
    "    '''This function performs label encoding'''\n",
    "    le=preprocessing.LabelEncoder()\n",
    "    le.fit(labels)\n",
    "    return le.transform(labels)\n",
    "    \n",
    "        \n"
   ]
  },
  {
   "cell_type": "code",
   "execution_count": 231,
   "id": "a951c8f6",
   "metadata": {},
   "outputs": [],
   "source": [
    "data['Message']=data['Message'].apply(lambda x: cleanDocument(x))"
   ]
  },
  {
   "cell_type": "code",
   "execution_count": 232,
   "id": "9200b0a4",
   "metadata": {},
   "outputs": [],
   "source": [
    "data['Message']=data['Message'].apply(lambda x: lemmetize(x))"
   ]
  },
  {
   "cell_type": "code",
   "execution_count": 233,
   "id": "78a7cf49",
   "metadata": {},
   "outputs": [
    {
     "data": {
      "text/plain": [
       "0    go jurong point crazy available bugis n great ...\n",
       "1                              ok lar joking wif u oni\n",
       "2    free entry wkly comp win fa cup final tkts st ...\n",
       "3                  u dun say early hor u c already say\n",
       "4             nah dont think go usf life around though\n",
       "Name: Message, dtype: object"
      ]
     },
     "execution_count": 233,
     "metadata": {},
     "output_type": "execute_result"
    }
   ],
   "source": [
    "data['Message'].head()"
   ]
  },
  {
   "cell_type": "code",
   "execution_count": 234,
   "id": "947d9afa",
   "metadata": {},
   "outputs": [],
   "source": [
    "data['Type']=label_encoder(data['Type'])"
   ]
  },
  {
   "cell_type": "markdown",
   "id": "1f071d75",
   "metadata": {},
   "source": [
    "### Converting documents to vector using tfidf vectorizer"
   ]
  },
  {
   "cell_type": "code",
   "execution_count": null,
   "id": "cb6de2a0",
   "metadata": {},
   "outputs": [],
   "source": [
    "corpus=[]\n",
    "for document in documents:\n",
    "    corpus.append(document)\n",
    "tfidf = TfidfVectorizer(max_features=500)\n",
    "vectors = tfidf.fit_transform(corpus).toarray()\n",
    "feature_names = tfidf.get_feature_names() \n",
    "X = pd.DataFrame(vectors, columns=feature_names)\n",
    "y = df['label']"
   ]
  },
  {
   "cell_type": "code",
   "execution_count": 241,
   "id": "a19c25ff",
   "metadata": {},
   "outputs": [
    {
     "data": {
      "image/png": "[encoded data removed]",
      "text/plain": [
       "<Figure size 432x288 with 1 Axes>"
      ]
     },
     "metadata": {},
     "output_type": "display_data"
    }
   ],
   "source": [
    "training_data=pd.concat([X_train,y_train],axis=1)\n",
    "sns.set_theme(style=\"darkgrid\")\n",
    "ax = sns.countplot(x='Type',data=data)"
   ]
  },
  {
   "cell_type": "markdown",
   "id": "bce4869d",
   "metadata": {},
   "source": [
    "### Train/Test/Validation split"
   ]
  },
  {
   "cell_type": "code",
   "execution_count": 235,
   "id": "bdbd7de8",
   "metadata": {},
   "outputs": [],
   "source": [
    "X=data['Message']\n",
    "y=data['Type']"
   ]
  },
  {
   "cell_type": "code",
   "execution_count": 236,
   "id": "f2667b29",
   "metadata": {},
   "outputs": [],
   "source": [
    "X_train_1, X_test, y_train_1, y_test = train_test_split(X, y, test_size=0.30, random_state=42)"
   ]
  },
  {
   "cell_type": "code",
   "execution_count": 237,
   "id": "16281f48",
   "metadata": {},
   "outputs": [],
   "source": [
    "X_train, X_val, y_train, y_val = train_test_split(X_train_1, y_train_1, test_size=0.30, random_state=42)"
   ]
  },
  {
   "cell_type": "code",
   "execution_count": 119,
   "id": "817965da",
   "metadata": {},
   "outputs": [
    {
     "data": {
      "text/plain": [
       "(2730,)"
      ]
     },
     "execution_count": 119,
     "metadata": {},
     "output_type": "execute_result"
    }
   ],
   "source": [
    "X_train.shape"
   ]
  },
  {
   "cell_type": "code",
   "execution_count": 120,
   "id": "c63b630f",
   "metadata": {},
   "outputs": [
    {
     "data": {
      "text/plain": [
       "(1672,)"
      ]
     },
     "execution_count": 120,
     "metadata": {},
     "output_type": "execute_result"
    }
   ],
   "source": [
    "X_test.shape"
   ]
  },
  {
   "cell_type": "code",
   "execution_count": 121,
   "id": "797b3fd0",
   "metadata": {},
   "outputs": [
    {
     "data": {
      "text/plain": [
       "(1170,)"
      ]
     },
     "execution_count": 121,
     "metadata": {},
     "output_type": "execute_result"
    }
   ],
   "source": [
    "X_val.shape"
   ]
  },
  {
   "cell_type": "code",
   "execution_count": 122,
   "id": "2ea8e225",
   "metadata": {},
   "outputs": [
    {
     "data": {
      "text/plain": [
       "(1672,)"
      ]
     },
     "execution_count": 122,
     "metadata": {},
     "output_type": "execute_result"
    }
   ],
   "source": [
    "y_test.shape"
   ]
  },
  {
   "cell_type": "code",
   "execution_count": 123,
   "id": "8c6b27d7",
   "metadata": {},
   "outputs": [
    {
     "data": {
      "text/plain": [
       "(2730,)"
      ]
     },
     "execution_count": 123,
     "metadata": {},
     "output_type": "execute_result"
    }
   ],
   "source": [
    "y_train.shape"
   ]
  },
  {
   "cell_type": "code",
   "execution_count": 124,
   "id": "0d3ddcd7",
   "metadata": {},
   "outputs": [
    {
     "data": {
      "text/plain": [
       "(1170,)"
      ]
     },
     "execution_count": 124,
     "metadata": {},
     "output_type": "execute_result"
    }
   ],
   "source": [
    "y_val.shape"
   ]
  },
  {
   "cell_type": "markdown",
   "id": "271ca62a",
   "metadata": {},
   "source": [
    "### Converting documents to vector using tfidf vectorizer"
   ]
  },
  {
   "cell_type": "code",
   "execution_count": null,
   "id": "9a8fbf1d",
   "metadata": {},
   "outputs": [],
   "source": [
    "corpus=[]\n",
    "for document in documents:\n",
    "    corpus.append(document)\n",
    "tfidf = TfidfVectorizer(max_features=500)\n",
    "vectors = tfidf.fit_transform(corpus).toarray()\n",
    "feature_names = tfidf.get_feature_names() \n",
    "X = pd.DataFrame(vectors, columns=feature_names)\n",
    "y = df['label']"
   ]
  }
 ],
 "metadata": {
  "kernelspec": {
   "display_name": "Python 3",
   "language": "python",
   "name": "python3"
  },
  "language_info": {
   "codemirror_mode": {
    "name": "ipython",
    "version": 3
   },
   "file_extension": ".py",
   "mimetype": "text/x-python",
   "name": "python",
   "nbconvert_exporter": "python",
   "pygments_lexer": "ipython3",
   "version": "3.8.8"
  }
 },
 "nbformat": 4,
 "nbformat_minor": 5
}

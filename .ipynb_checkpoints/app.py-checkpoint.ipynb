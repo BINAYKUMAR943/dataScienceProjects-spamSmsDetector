{
 "cells": [
  {
   "cell_type": "code",
   "execution_count": 4,
   "id": "1f9f70d8",
   "metadata": {},
   "outputs": [],
   "source": [
    "import re\n",
    "import nltk\n",
    "from nltk.stem import WordNetLemmatizer\n",
    "from nltk import word_tokenize\n",
    "from nltk.corpus import stopwords\n",
    "from nltk import word_tokenize\n",
    "import string\n",
    "import streamlit as st\n",
    "import pickle"
   ]
  },
  {
   "cell_type": "markdown",
   "id": "eda8b3bd",
   "metadata": {},
   "source": [
    "Cleaning of test data"
   ]
  },
  {
   "cell_type": "code",
   "execution_count": 4,
   "id": "ec61100e",
   "metadata": {},
   "outputs": [],
   "source": [
    "def cleanDocument(document):  \n",
    "    '''This function performs some cleaning operations such as removing number, extra spaces etc. to text data'''\n",
    "    # Changing the text to lowercase\n",
    "    document=document.lower()\n",
    "\n",
    "    #Removing extra spaces\n",
    "    document=re.sub(r' +',' ',document)\n",
    "\n",
    "    #Removing Punctuality\n",
    "    exclude = set(string.punctuation)\n",
    "    document = ''.join(ch for ch in document if ch not in exclude)\n",
    "\n",
    "    #Removing numbers\n",
    "    document=document.strip()\n",
    "    document=re.sub(r'\\d+','',document)\n",
    "\n",
    "    #Removing Stop words\n",
    "    selected_words=[]\n",
    "    stop_words=list(stopwords.words(\"english\"))\n",
    "    tokens=word_tokenize(document)\n",
    "    for i in range(len(tokens)):\n",
    "        if tokens[i] not in stop_words:\n",
    "            selected_words.append(tokens[i])    \n",
    "    return \" \".join(selected_words)\n",
    "\n",
    "# Function for lemmetization\n",
    "def lemmetize(document): \n",
    "    ''' This function does lemmetizaton of doucument'''\n",
    "    lem=WordNetLemmatizer()\n",
    "    tokens=word_tokenize(document)\n",
    "    for i in range(len(tokens)):\n",
    "        lem_word=lem.lemmatize(tokens[i])\n",
    "        tokens[i]=lem_word\n",
    "\n",
    "    document=\" \".join(tokens)\n",
    "    return document\n"
   ]
  },
  {
   "cell_type": "code",
   "execution_count": 6,
   "id": "0b1c63fe",
   "metadata": {},
   "outputs": [],
   "source": [
    "tfidf = pickle.load(open('vectorizer.pkl','rb'))\n",
    "model = pickle.load(open('nb.pkl','rb'))\n",
    "le=pickle.load(open('le.pkl','rb'))"
   ]
  },
  {
   "cell_type": "code",
   "execution_count": 2,
   "id": "975da2df",
   "metadata": {},
   "outputs": [
    {
     "name": "stderr",
     "output_type": "stream",
     "text": [
      "2022-01-29 23:13:03.053 \n",
      "  \u001b[33m\u001b[1mWarning:\u001b[0m to view this Streamlit app on a browser, run it with the following\n",
      "  command:\n",
      "\n",
      "    streamlit run C:\\Users\\LENOVO\\anaconda3\\lib\\site-packages\\ipykernel_launcher.py [ARGUMENTS]\n"
     ]
    },
    {
     "data": {
      "text/plain": [
       "DeltaGenerator(_root_container=0, _provided_cursor=None, _parent=None, _block_type=None, _form_data=None)"
      ]
     },
     "execution_count": 2,
     "metadata": {},
     "output_type": "execute_result"
    }
   ],
   "source": [
    "st.title('SMS classifier')"
   ]
  },
  {
   "cell_type": "code",
   "execution_count": 3,
   "id": "4a81b91c",
   "metadata": {},
   "outputs": [],
   "source": [
    "sms=st.text_area('Please enter sms')"
   ]
  },
  {
   "cell_type": "code",
   "execution_count": 7,
   "id": "b38c4664",
   "metadata": {},
   "outputs": [],
   "source": [
    "if st.button('Predict'):\n",
    "    #clean\n",
    "    cleanDocument(sms)\n",
    "    #Lemmetize\n",
    "    lemmetize(sms)\n",
    "    #Vectorize\n",
    "    sms=tfidf(sms).toarray()\n",
    "    #Predict\n",
    "    sms_type_nbr=model.predict(sms)\n",
    "    #GetType\n",
    "    sms_type_txt=le.inverse_transform(sm_type)\n",
    "    st.header(sms_type_txt)\n",
    "    "
   ]
  },
  {
   "cell_type": "code",
   "execution_count": null,
   "id": "802283cd",
   "metadata": {},
   "outputs": [],
   "source": []
  }
 ],
 "metadata": {
  "kernelspec": {
   "display_name": "Python 3",
   "language": "python",
   "name": "python3"
  },
  "language_info": {
   "codemirror_mode": {
    "name": "ipython",
    "version": 3
   },
   "file_extension": ".py",
   "mimetype": "text/x-python",
   "name": "python",
   "nbconvert_exporter": "python",
   "pygments_lexer": "ipython3",
   "version": "3.8.8"
  }
 },
 "nbformat": 4,
 "nbformat_minor": 5
}
